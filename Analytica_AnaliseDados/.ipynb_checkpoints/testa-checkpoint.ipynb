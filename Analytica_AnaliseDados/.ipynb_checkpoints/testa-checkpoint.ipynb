{
 "cells": [
  {
   "cell_type": "code",
   "execution_count": 1,
   "id": "2299443b-1015-4284-b069-0c1781f478b6",
   "metadata": {},
   "outputs": [],
   "source": [
    "import pandas as pd"
   ]
  },
  {
   "cell_type": "code",
   "execution_count": 2,
   "id": "0247d0d7-2418-4891-a1d4-6f4a443e4d7a",
   "metadata": {},
   "outputs": [],
   "source": [
    "import codecs\n",
    "BLOCKSIZE = 1048576 # or some other, desired size in bytes\n",
    "with codecs.open('TA_PRECO_MEDICAMENTO.CSV', \"r\", \"windows-1250\") as sourceFile:\n",
    "    with codecs.open(\"Decoded_Remedios.csv\", \"w\", \"utf-8\") as targetFile:\n",
    "        while True:\n",
    "            contents = sourceFile.read(BLOCKSIZE)\n",
    "            if not contents:\n",
    "                break\n",
    "            targetFile.write(contents)"
   ]
  },
  {
   "cell_type": "code",
   "execution_count": 3,
   "id": "d1664a07-1376-4eac-8133-4eb00d78156d",
   "metadata": {},
   "outputs": [
    {
     "name": "stderr",
     "output_type": "stream",
     "text": [
      "<ipython-input-3-f73d8b2b07fc>:1: DtypeWarning: Columns (4) have mixed types. Specify dtype option on import or set low_memory=False.\n",
      "  tabela = pd.read_csv('Decoded_Remedios.csv', encoding='utf-8', sep=';')\n",
      "<ipython-input-3-f73d8b2b07fc>:2: DtypeWarning: Columns (4) have mixed types. Specify dtype option on import or set low_memory=False.\n",
      "  testa = pd.read_csv('TA_PRECO_MEDICAMENTO.CSV', encoding='cp1250', sep=';')\n"
     ]
    }
   ],
   "source": [
    "tabela = pd.read_csv('Decoded_Remedios.csv', encoding='utf-8', sep=';')\n",
    "testa = pd.read_csv('TA_PRECO_MEDICAMENTO.CSV', encoding='cp1250', sep=';')"
   ]
  },
  {
   "cell_type": "code",
   "execution_count": null,
   "id": "c492483c-9a7a-40ba-ac9a-82aa31cc28f6",
   "metadata": {},
   "outputs": [],
   "source": [
    "#remedios1250 = pd.read_csv('TA_PRECO_MEDICAMENTO.CSV', sep=';', encoding='cp1250', low_memory=False)\n",
    "remedios = pd.read_csv('Decoded_Remedios.csv', sep=';', low_memory=False)"
   ]
  },
  {
   "cell_type": "code",
   "execution_count": null,
   "id": "325839b2-6543-4c3c-9a24-4dd5437a8e68",
   "metadata": {},
   "outputs": [],
   "source": [
    "restricao = remedios[remedios['RESTRIÇĂO HOSPITALAR'] == 'Sim'].index\n",
    "remedios.drop(restricao, inplace = True)\n",
    "remediosdrop = remedios.drop(['APRESENTAÇĂO', 'LABORATÓRIO', 'EAN 1', 'EAN 2', 'EAN 3', 'CNPJ', 'CÓDIGO GGREM', 'REGISTRO', 'ANÁLISE RECURSAL'], axis=1)"
   ]
  }
 ],
 "metadata": {
  "kernelspec": {
   "display_name": "Python 3",
   "language": "python",
   "name": "python3"
  },
  "language_info": {
   "codemirror_mode": {
    "name": "ipython",
    "version": 3
   },
   "file_extension": ".py",
   "mimetype": "text/x-python",
   "name": "python",
   "nbconvert_exporter": "python",
   "pygments_lexer": "ipython3",
   "version": "3.9.12"
  }
 },
 "nbformat": 4,
 "nbformat_minor": 5
}
